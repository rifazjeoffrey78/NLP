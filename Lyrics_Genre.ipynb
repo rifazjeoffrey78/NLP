{
  "nbformat": 4,
  "nbformat_minor": 0,
  "metadata": {
    "colab": {
      "provenance": []
    },
    "kernelspec": {
      "name": "python3",
      "display_name": "Python 3"
    },
    "language_info": {
      "name": "python"
    }
  },
  "cells": [
    {
      "cell_type": "code",
      "execution_count": 1,
      "metadata": {
        "id": "5QLec5qroZTq"
      },
      "outputs": [],
      "source": [
        "import tensorflow as tf\n",
        "from tensorflow import keras\n",
        "import numpy as np\n",
        "import pandas as pd\n",
        "import matplotlib.pyplot as plt\n",
        "from google.colab import drive\n",
        "\n",
        "keras.utils.set_random_seed(42)"
      ]
    },
    {
      "cell_type": "code",
      "source": [
        "drive.mount('/content/drive')\n",
        "\n",
        "\n",
        "# Read data from URL\n",
        "# Note:\n",
        "# Create a XPro subfolder in google drive\n",
        "# In that folder add the three .csv files.\n",
        "\n",
        "train_df = pd.read_csv('/content/drive/MyDrive/MIT/Python/NLP/lyric_genre_train.csv', index_col=0).astype(str)\n",
        "test_df = pd.read_csv('/content/drive/MyDrive/MIT/Python/NLP/lyric_genre_test.csv', index_col=0).astype(str)\n",
        "val_df = pd.read_csv('/content/drive/MyDrive/MIT/Python/NLP/lyric_genre_val.csv', index_col=0).astype(str)\n",
        "\n",
        "print(f\"\"\"\n",
        "Train samples: {train_df.shape[0]}\n",
        "Validation samples: {val_df.shape[0]}\n",
        "Test samples: {test_df.shape[0]}\n",
        "\"\"\")"
      ],
      "metadata": {
        "colab": {
          "base_uri": "https://localhost:8080/"
        },
        "id": "ihTA_HEgohy_",
        "outputId": "88ab1b10-a92e-4ade-b1ce-b705c93f6c3e"
      },
      "execution_count": 2,
      "outputs": [
        {
          "output_type": "stream",
          "name": "stdout",
          "text": [
            "Mounted at /content/drive\n",
            "\n",
            "Train samples: 48991\n",
            "Validation samples: 16331\n",
            "Test samples: 21774\n",
            "\n"
          ]
        }
      ]
    },
    {
      "cell_type": "code",
      "source": [
        "train_df.head()"
      ],
      "metadata": {
        "colab": {
          "base_uri": "https://localhost:8080/",
          "height": 206
        },
        "id": "__Nglt-LomXo",
        "outputId": "a56a32fa-6fea-4f61-8106-a0c66ab4b732"
      },
      "execution_count": 3,
      "outputs": [
        {
          "output_type": "execute_result",
          "data": {
            "text/plain": [
              "                                               Lyric Genre\n",
              "0  Oh, girl. I can't get ready (Can't get ready f...   Pop\n",
              "1  We met on a rainy evening in the summertime. D...   Pop\n",
              "2  We carried you in our arms. On Independence Da...  Rock\n",
              "3  I know he loved you. A long time ago. I ain't ...   Pop\n",
              "4  Paralysis through analysis. Yellow moral uncle...  Rock"
            ],
            "text/html": [
              "\n",
              "  <div id=\"df-3fbd54bb-cf0c-4513-b716-707f7f637135\" class=\"colab-df-container\">\n",
              "    <div>\n",
              "<style scoped>\n",
              "    .dataframe tbody tr th:only-of-type {\n",
              "        vertical-align: middle;\n",
              "    }\n",
              "\n",
              "    .dataframe tbody tr th {\n",
              "        vertical-align: top;\n",
              "    }\n",
              "\n",
              "    .dataframe thead th {\n",
              "        text-align: right;\n",
              "    }\n",
              "</style>\n",
              "<table border=\"1\" class=\"dataframe\">\n",
              "  <thead>\n",
              "    <tr style=\"text-align: right;\">\n",
              "      <th></th>\n",
              "      <th>Lyric</th>\n",
              "      <th>Genre</th>\n",
              "    </tr>\n",
              "  </thead>\n",
              "  <tbody>\n",
              "    <tr>\n",
              "      <th>0</th>\n",
              "      <td>Oh, girl. I can't get ready (Can't get ready f...</td>\n",
              "      <td>Pop</td>\n",
              "    </tr>\n",
              "    <tr>\n",
              "      <th>1</th>\n",
              "      <td>We met on a rainy evening in the summertime. D...</td>\n",
              "      <td>Pop</td>\n",
              "    </tr>\n",
              "    <tr>\n",
              "      <th>2</th>\n",
              "      <td>We carried you in our arms. On Independence Da...</td>\n",
              "      <td>Rock</td>\n",
              "    </tr>\n",
              "    <tr>\n",
              "      <th>3</th>\n",
              "      <td>I know he loved you. A long time ago. I ain't ...</td>\n",
              "      <td>Pop</td>\n",
              "    </tr>\n",
              "    <tr>\n",
              "      <th>4</th>\n",
              "      <td>Paralysis through analysis. Yellow moral uncle...</td>\n",
              "      <td>Rock</td>\n",
              "    </tr>\n",
              "  </tbody>\n",
              "</table>\n",
              "</div>\n",
              "    <div class=\"colab-df-buttons\">\n",
              "\n",
              "  <div class=\"colab-df-container\">\n",
              "    <button class=\"colab-df-convert\" onclick=\"convertToInteractive('df-3fbd54bb-cf0c-4513-b716-707f7f637135')\"\n",
              "            title=\"Convert this dataframe to an interactive table.\"\n",
              "            style=\"display:none;\">\n",
              "\n",
              "  <svg xmlns=\"http://www.w3.org/2000/svg\" height=\"24px\" viewBox=\"0 -960 960 960\">\n",
              "    <path d=\"M120-120v-720h720v720H120Zm60-500h600v-160H180v160Zm220 220h160v-160H400v160Zm0 220h160v-160H400v160ZM180-400h160v-160H180v160Zm440 0h160v-160H620v160ZM180-180h160v-160H180v160Zm440 0h160v-160H620v160Z\"/>\n",
              "  </svg>\n",
              "    </button>\n",
              "\n",
              "  <style>\n",
              "    .colab-df-container {\n",
              "      display:flex;\n",
              "      gap: 12px;\n",
              "    }\n",
              "\n",
              "    .colab-df-convert {\n",
              "      background-color: #E8F0FE;\n",
              "      border: none;\n",
              "      border-radius: 50%;\n",
              "      cursor: pointer;\n",
              "      display: none;\n",
              "      fill: #1967D2;\n",
              "      height: 32px;\n",
              "      padding: 0 0 0 0;\n",
              "      width: 32px;\n",
              "    }\n",
              "\n",
              "    .colab-df-convert:hover {\n",
              "      background-color: #E2EBFA;\n",
              "      box-shadow: 0px 1px 2px rgba(60, 64, 67, 0.3), 0px 1px 3px 1px rgba(60, 64, 67, 0.15);\n",
              "      fill: #174EA6;\n",
              "    }\n",
              "\n",
              "    .colab-df-buttons div {\n",
              "      margin-bottom: 4px;\n",
              "    }\n",
              "\n",
              "    [theme=dark] .colab-df-convert {\n",
              "      background-color: #3B4455;\n",
              "      fill: #D2E3FC;\n",
              "    }\n",
              "\n",
              "    [theme=dark] .colab-df-convert:hover {\n",
              "      background-color: #434B5C;\n",
              "      box-shadow: 0px 1px 3px 1px rgba(0, 0, 0, 0.15);\n",
              "      filter: drop-shadow(0px 1px 2px rgba(0, 0, 0, 0.3));\n",
              "      fill: #FFFFFF;\n",
              "    }\n",
              "  </style>\n",
              "\n",
              "    <script>\n",
              "      const buttonEl =\n",
              "        document.querySelector('#df-3fbd54bb-cf0c-4513-b716-707f7f637135 button.colab-df-convert');\n",
              "      buttonEl.style.display =\n",
              "        google.colab.kernel.accessAllowed ? 'block' : 'none';\n",
              "\n",
              "      async function convertToInteractive(key) {\n",
              "        const element = document.querySelector('#df-3fbd54bb-cf0c-4513-b716-707f7f637135');\n",
              "        const dataTable =\n",
              "          await google.colab.kernel.invokeFunction('convertToInteractive',\n",
              "                                                    [key], {});\n",
              "        if (!dataTable) return;\n",
              "\n",
              "        const docLinkHtml = 'Like what you see? Visit the ' +\n",
              "          '<a target=\"_blank\" href=https://colab.research.google.com/notebooks/data_table.ipynb>data table notebook</a>'\n",
              "          + ' to learn more about interactive tables.';\n",
              "        element.innerHTML = '';\n",
              "        dataTable['output_type'] = 'display_data';\n",
              "        await google.colab.output.renderOutput(dataTable, element);\n",
              "        const docLink = document.createElement('div');\n",
              "        docLink.innerHTML = docLinkHtml;\n",
              "        element.appendChild(docLink);\n",
              "      }\n",
              "    </script>\n",
              "  </div>\n",
              "\n",
              "\n",
              "<div id=\"df-a2706e68-9c3c-40fb-9766-1a233071800a\">\n",
              "  <button class=\"colab-df-quickchart\" onclick=\"quickchart('df-a2706e68-9c3c-40fb-9766-1a233071800a')\"\n",
              "            title=\"Suggest charts\"\n",
              "            style=\"display:none;\">\n",
              "\n",
              "<svg xmlns=\"http://www.w3.org/2000/svg\" height=\"24px\"viewBox=\"0 0 24 24\"\n",
              "     width=\"24px\">\n",
              "    <g>\n",
              "        <path d=\"M19 3H5c-1.1 0-2 .9-2 2v14c0 1.1.9 2 2 2h14c1.1 0 2-.9 2-2V5c0-1.1-.9-2-2-2zM9 17H7v-7h2v7zm4 0h-2V7h2v10zm4 0h-2v-4h2v4z\"/>\n",
              "    </g>\n",
              "</svg>\n",
              "  </button>\n",
              "\n",
              "<style>\n",
              "  .colab-df-quickchart {\n",
              "      --bg-color: #E8F0FE;\n",
              "      --fill-color: #1967D2;\n",
              "      --hover-bg-color: #E2EBFA;\n",
              "      --hover-fill-color: #174EA6;\n",
              "      --disabled-fill-color: #AAA;\n",
              "      --disabled-bg-color: #DDD;\n",
              "  }\n",
              "\n",
              "  [theme=dark] .colab-df-quickchart {\n",
              "      --bg-color: #3B4455;\n",
              "      --fill-color: #D2E3FC;\n",
              "      --hover-bg-color: #434B5C;\n",
              "      --hover-fill-color: #FFFFFF;\n",
              "      --disabled-bg-color: #3B4455;\n",
              "      --disabled-fill-color: #666;\n",
              "  }\n",
              "\n",
              "  .colab-df-quickchart {\n",
              "    background-color: var(--bg-color);\n",
              "    border: none;\n",
              "    border-radius: 50%;\n",
              "    cursor: pointer;\n",
              "    display: none;\n",
              "    fill: var(--fill-color);\n",
              "    height: 32px;\n",
              "    padding: 0;\n",
              "    width: 32px;\n",
              "  }\n",
              "\n",
              "  .colab-df-quickchart:hover {\n",
              "    background-color: var(--hover-bg-color);\n",
              "    box-shadow: 0 1px 2px rgba(60, 64, 67, 0.3), 0 1px 3px 1px rgba(60, 64, 67, 0.15);\n",
              "    fill: var(--button-hover-fill-color);\n",
              "  }\n",
              "\n",
              "  .colab-df-quickchart-complete:disabled,\n",
              "  .colab-df-quickchart-complete:disabled:hover {\n",
              "    background-color: var(--disabled-bg-color);\n",
              "    fill: var(--disabled-fill-color);\n",
              "    box-shadow: none;\n",
              "  }\n",
              "\n",
              "  .colab-df-spinner {\n",
              "    border: 2px solid var(--fill-color);\n",
              "    border-color: transparent;\n",
              "    border-bottom-color: var(--fill-color);\n",
              "    animation:\n",
              "      spin 1s steps(1) infinite;\n",
              "  }\n",
              "\n",
              "  @keyframes spin {\n",
              "    0% {\n",
              "      border-color: transparent;\n",
              "      border-bottom-color: var(--fill-color);\n",
              "      border-left-color: var(--fill-color);\n",
              "    }\n",
              "    20% {\n",
              "      border-color: transparent;\n",
              "      border-left-color: var(--fill-color);\n",
              "      border-top-color: var(--fill-color);\n",
              "    }\n",
              "    30% {\n",
              "      border-color: transparent;\n",
              "      border-left-color: var(--fill-color);\n",
              "      border-top-color: var(--fill-color);\n",
              "      border-right-color: var(--fill-color);\n",
              "    }\n",
              "    40% {\n",
              "      border-color: transparent;\n",
              "      border-right-color: var(--fill-color);\n",
              "      border-top-color: var(--fill-color);\n",
              "    }\n",
              "    60% {\n",
              "      border-color: transparent;\n",
              "      border-right-color: var(--fill-color);\n",
              "    }\n",
              "    80% {\n",
              "      border-color: transparent;\n",
              "      border-right-color: var(--fill-color);\n",
              "      border-bottom-color: var(--fill-color);\n",
              "    }\n",
              "    90% {\n",
              "      border-color: transparent;\n",
              "      border-bottom-color: var(--fill-color);\n",
              "    }\n",
              "  }\n",
              "</style>\n",
              "\n",
              "  <script>\n",
              "    async function quickchart(key) {\n",
              "      const quickchartButtonEl =\n",
              "        document.querySelector('#' + key + ' button');\n",
              "      quickchartButtonEl.disabled = true;  // To prevent multiple clicks.\n",
              "      quickchartButtonEl.classList.add('colab-df-spinner');\n",
              "      try {\n",
              "        const charts = await google.colab.kernel.invokeFunction(\n",
              "            'suggestCharts', [key], {});\n",
              "      } catch (error) {\n",
              "        console.error('Error during call to suggestCharts:', error);\n",
              "      }\n",
              "      quickchartButtonEl.classList.remove('colab-df-spinner');\n",
              "      quickchartButtonEl.classList.add('colab-df-quickchart-complete');\n",
              "    }\n",
              "    (() => {\n",
              "      let quickchartButtonEl =\n",
              "        document.querySelector('#df-a2706e68-9c3c-40fb-9766-1a233071800a button');\n",
              "      quickchartButtonEl.style.display =\n",
              "        google.colab.kernel.accessAllowed ? 'block' : 'none';\n",
              "    })();\n",
              "  </script>\n",
              "</div>\n",
              "\n",
              "    </div>\n",
              "  </div>\n"
            ],
            "application/vnd.google.colaboratory.intrinsic+json": {
              "type": "dataframe",
              "variable_name": "train_df",
              "summary": "{\n  \"name\": \"train_df\",\n  \"rows\": 48991,\n  \"fields\": [\n    {\n      \"column\": \"Lyric\",\n      \"properties\": {\n        \"dtype\": \"string\",\n        \"num_unique_values\": 48752,\n        \"samples\": [\n          \"Change your heart. Look around you. Change your heart. It will astound you. I need your lovin'. Like the sunshine. Everybody's gotta learn sometime. Everybody's gotta learn sometime. Everybody's gotta learn sometime. Change your heart. Look around you. Change your heart. Will astound you. I need your lovin'. Like the sunshine. Everybody's gotta learn sometime. Everybody's gotta learn sometime. Everybody's gotta learn sometime. I need your lovin'. Like the sunshine. Everybody's gotta learn sometime. Everybody's gotta learn sometime. Everybody's gotta learn sometime. Everybody's gotta learn sometime. Everybody's gotta learn sometime. Everybody's gotta learn sometime. Everybody's gotta learn sometime. Everybody's gotta learn sometime\",\n          \"Light comes in, I watch you wake. Wanting you so much my heart could break. To touch your skin, to feel your hair. I'd follow you anywhere. Light goes out, I watch you sleep. Never imagined love so deep. I close my eyes to breathe the air. I'd follow you anywhere. And the waves that wash over me, wash over you. Follow me, I'll follow you. Through your dreams to secret places. Here's my hand, just take it. Do as I do, I'll follow you. Nobody knows who made the stars. Baby the whole world is ours. From Liverpool to Leicester Square. I'd follow you anywhere. The angels that watch over me, watch over you. Follow me, I'll follow you. Through your dreams to secret places. Where nobody can trace us. We'll make it through, I'll follow you. And the waves that wash over me, wash over you. Follow me, I'll follow you. When nobody can find you. I'll be right behind you. You'll make it through (I'll follow you). Follow me (follow me), I'll follow you. Through your dreams to secret places. Here's my hand, just take it. Do as I do, I'll follow you\",\n          \"I visualize the first time we're together. I close my eyes and for a moment all I see is you. Turn off the lights, don't look outside, the world's gone crazy. But it's perfect here with you. Chorus:. I\\u2019ve never felt so alive. Like I feel right now in this moment. I\\u2019ve never felt so alive. Like I feel right here standing next to you. I\\u2019ve never felt so alive. I know what you're thinking. You think that we're different. In my reputation, in the stories. Well, at least you know it won't get boring. Like all the ones who came before me. Just let go as I crash into you. Chorus (1x). Heaven's heard me calling. The stars involve a light. Your touch is so electric. I'm looking in your eyes. I\\u2019ve never felt so alive. It's so surreal, the way you feel. How fast my heart is beating. And we're breathing together now. As we fall down, above the clouds. I swear I\\u2019ll never let you down. Chorus (1x). Heaven's heard me calling. The stars involve a light. Your touch is so electric. I'm looking in your eyes. I\\u2019ve never felt so alive (3x)\"\n        ],\n        \"semantic_type\": \"\",\n        \"description\": \"\"\n      }\n    },\n    {\n      \"column\": \"Genre\",\n      \"properties\": {\n        \"dtype\": \"category\",\n        \"num_unique_values\": 3,\n        \"samples\": [\n          \"Pop\",\n          \"Rock\",\n          \"Hip Hop\"\n        ],\n        \"semantic_type\": \"\",\n        \"description\": \"\"\n      }\n    }\n  ]\n}"
            }
          },
          "metadata": {},
          "execution_count": 3
        }
      ]
    },
    {
      "cell_type": "code",
      "source": [
        "# Let's check the proportion of each label on training\n",
        "\n",
        "train_df['Genre'].value_counts() / train_df.shape[0]"
      ],
      "metadata": {
        "colab": {
          "base_uri": "https://localhost:8080/"
        },
        "id": "PmXEhPqEouWP",
        "outputId": "00a3de77-044e-461c-df1b-8316d9411ca5"
      },
      "execution_count": 4,
      "outputs": [
        {
          "output_type": "execute_result",
          "data": {
            "text/plain": [
              "Genre\n",
              "Rock       0.549448\n",
              "Pop        0.295136\n",
              "Hip Hop    0.155416\n",
              "Name: count, dtype: float64"
            ]
          },
          "metadata": {},
          "execution_count": 4
        }
      ]
    },
    {
      "cell_type": "code",
      "source": [
        "# Let's turn the target into a dummy vector\n",
        "\n",
        "y_train = pd.get_dummies(train_df['Genre']).to_numpy()\n",
        "y_val = pd.get_dummies(val_df['Genre']).to_numpy()\n",
        "y_test = pd.get_dummies(test_df['Genre']).to_numpy()"
      ],
      "metadata": {
        "id": "lI6f3psxowhC"
      },
      "execution_count": 5,
      "outputs": []
    },
    {
      "cell_type": "code",
      "source": [
        "# First, we set up our Text Vectorization layer using multi-hot encoding\n",
        "\n",
        "max_tokens = 5000\n",
        "text_vectorization = keras.layers.TextVectorization(\n",
        "    max_tokens=max_tokens,\n",
        "    output_mode=\"multi_hot\")"
      ],
      "metadata": {
        "id": "F_6wmrfho6xv"
      },
      "execution_count": 6,
      "outputs": []
    },
    {
      "cell_type": "code",
      "source": [
        "# The vocabulary that will be indexed is given by the text corpus on our train dataset\n",
        "text_vectorization.adapt(train_df['Lyric'])"
      ],
      "metadata": {
        "id": "bTeBdRTvo8yb"
      },
      "execution_count": 7,
      "outputs": []
    },
    {
      "cell_type": "code",
      "source": [
        "#Let's look at the 20 least common words in our vectorization\n",
        "\n",
        "text_vectorization.get_vocabulary()[-20:]"
      ],
      "metadata": {
        "colab": {
          "base_uri": "https://localhost:8080/"
        },
        "id": "mNToRUQho-Ca",
        "outputId": "5d98f047-3f37-43a7-8930-d22ff1362b18"
      },
      "execution_count": 8,
      "outputs": [
        {
          "output_type": "execute_result",
          "data": {
            "text/plain": [
              "['eden',\n",
              " 'dagger',\n",
              " 'curve',\n",
              " 'cheddar',\n",
              " 'brew',\n",
              " 'appears',\n",
              " 'vacant',\n",
              " 'universal',\n",
              " 'unholy',\n",
              " 'terrified',\n",
              " 'stickin',\n",
              " 'rumble',\n",
              " 'rug',\n",
              " 'pam',\n",
              " 'os',\n",
              " 'ooohh',\n",
              " 'motto',\n",
              " 'marshall',\n",
              " 'loyalty',\n",
              " 'legacy']"
            ]
          },
          "metadata": {},
          "execution_count": 8
        }
      ]
    },
    {
      "cell_type": "code",
      "source": [
        "# We vectorize our input\n",
        "\n",
        "X_train = text_vectorization(train_df['Lyric'])\n",
        "X_val = text_vectorization(val_df['Lyric'])\n",
        "X_test = text_vectorization(test_df['Lyric'])"
      ],
      "metadata": {
        "id": "xeCpzFu3pFI9"
      },
      "execution_count": 9,
      "outputs": []
    },
    {
      "cell_type": "code",
      "source": [
        "#downloading the GloVe word embedding that contains 100-dimensional embedding vectors of 400,000 words. GloVe was precomputed on the 2014 English Wikipedia dataset\n",
        "#\n",
        "!wget http://nlp.stanford.edu/data/glove.6B.zip\n",
        "!unzip -q glove.6B.zip"
      ],
      "metadata": {
        "colab": {
          "base_uri": "https://localhost:8080/"
        },
        "id": "NLbJgXVSpNF4",
        "outputId": "f1976963-0908-4d04-ec35-efc6eb4eb994"
      },
      "execution_count": 12,
      "outputs": [
        {
          "output_type": "stream",
          "name": "stdout",
          "text": [
            "--2024-07-07 14:42:42--  http://nlp.stanford.edu/data/glove.6B.zip\n",
            "Resolving nlp.stanford.edu (nlp.stanford.edu)... 171.64.67.140\n",
            "Connecting to nlp.stanford.edu (nlp.stanford.edu)|171.64.67.140|:80... connected.\n",
            "HTTP request sent, awaiting response... 302 Found\n",
            "Location: https://nlp.stanford.edu/data/glove.6B.zip [following]\n",
            "--2024-07-07 14:42:42--  https://nlp.stanford.edu/data/glove.6B.zip\n",
            "Connecting to nlp.stanford.edu (nlp.stanford.edu)|171.64.67.140|:443... connected.\n",
            "HTTP request sent, awaiting response... 301 Moved Permanently\n",
            "Location: https://downloads.cs.stanford.edu/nlp/data/glove.6B.zip [following]\n",
            "--2024-07-07 14:42:42--  https://downloads.cs.stanford.edu/nlp/data/glove.6B.zip\n",
            "Resolving downloads.cs.stanford.edu (downloads.cs.stanford.edu)... 171.64.64.22\n",
            "Connecting to downloads.cs.stanford.edu (downloads.cs.stanford.edu)|171.64.64.22|:443... connected.\n",
            "HTTP request sent, awaiting response... 200 OK\n",
            "Length: 862182613 (822M) [application/zip]\n",
            "Saving to: ‘glove.6B.zip’\n",
            "\n",
            "glove.6B.zip        100%[===================>] 822.24M  5.00MB/s    in 2m 39s  \n",
            "\n",
            "2024-07-07 14:45:21 (5.19 MB/s) - ‘glove.6B.zip’ saved [862182613/862182613]\n",
            "\n"
          ]
        }
      ]
    },
    {
      "cell_type": "code",
      "source": [
        "embedding_dim = 100\n",
        "path_to_glove_file = f\"glove.6B.{embedding_dim}d.txt\"\n",
        "\n",
        "embeddings_index = {}\n",
        "with open(path_to_glove_file) as f:\n",
        "    for line in f:\n",
        "        word, coefs = line.split(maxsplit=1)\n",
        "        coefs = np.fromstring(coefs, \"f\", sep=\" \")\n",
        "        embeddings_index[word] = coefs\n",
        "\n",
        "print(f\"Found {len(embeddings_index)} word vectors.\")"
      ],
      "metadata": {
        "colab": {
          "base_uri": "https://localhost:8080/"
        },
        "id": "01ze7TKBpO9u",
        "outputId": "63db406f-d0ec-4eb9-ea80-365b414405ca"
      },
      "execution_count": 13,
      "outputs": [
        {
          "output_type": "stream",
          "name": "stdout",
          "text": [
            "Found 400000 word vectors.\n"
          ]
        }
      ]
    },
    {
      "cell_type": "code",
      "source": [
        "#load the GloVe embeddings into the model and train it!\n",
        "\n",
        "max_length = 300 #90% of songs have less than 300 words\n",
        "max_tokens = 5000\n",
        "\n",
        "text_vectorization = keras.layers.TextVectorization(\n",
        "    max_tokens=max_tokens,\n",
        "    output_mode=\"int\",\n",
        "    output_sequence_length=max_length,\n",
        ")"
      ],
      "metadata": {
        "id": "KKA5WuUAphkX"
      },
      "execution_count": 14,
      "outputs": []
    },
    {
      "cell_type": "code",
      "source": [
        "text_vectorization.adapt(train_df['Lyric'])"
      ],
      "metadata": {
        "id": "6y4sRqKspnE1"
      },
      "execution_count": 15,
      "outputs": []
    },
    {
      "cell_type": "code",
      "source": [
        "X_train = text_vectorization(train_df['Lyric'])\n",
        "X_val = text_vectorization(val_df['Lyric'])\n",
        "X_test = text_vectorization(test_df['Lyric'])"
      ],
      "metadata": {
        "id": "qrWzcunDpnrH"
      },
      "execution_count": 16,
      "outputs": []
    },
    {
      "cell_type": "code",
      "source": [
        "#Since we want to use the downloaded GLoVE embeddings, we will first build a matrix of shape (max_words, embedding_dim) and fix it as the embeddings of the Embedding layer.\n",
        "\n",
        "vocabulary = text_vectorization.get_vocabulary()\n",
        "word_index = dict(zip(vocabulary, range(len(vocabulary))))\n",
        "\n",
        "counter = 0\n",
        "embedding_matrix = np.zeros((max_tokens, embedding_dim))\n",
        "for word, i in word_index.items():\n",
        "  if i < max_tokens:\n",
        "    embedding_vector = embeddings_index.get(word)\n",
        "  if embedding_vector is not None:\n",
        "    embedding_matrix[i] = embedding_vector\n",
        "  else:\n",
        "    counter += 1"
      ],
      "metadata": {
        "id": "Pvo5bKmDpq71"
      },
      "execution_count": 17,
      "outputs": []
    },
    {
      "cell_type": "code",
      "source": [
        "#Set trainable=False to freeze the layer to avoid disrupting these pretrained GLoVE embeddings during training.\n",
        "#Modify Trainable=True to see how GloVe embeddings can be trained using our input. Check accuracy improvements\n",
        "embedding_layer = keras.layers.Embedding(\n",
        "    max_tokens,\n",
        "    embedding_dim,\n",
        "    embeddings_initializer= keras.initializers.Constant(embedding_matrix),\n",
        "    trainable=True,\n",
        ")"
      ],
      "metadata": {
        "id": "8S-J4MqHp-1l"
      },
      "execution_count": 19,
      "outputs": []
    },
    {
      "cell_type": "code",
      "source": [
        "#build a Neural Network with an embedding layer after its input layer.\n",
        "#This layer will use the already computed Glove embeddings to convert each word in the document into a dense vector.\n",
        "#Thus, each text will be represented by a matrix.\n",
        "\n",
        "inputs = keras.Input(shape=(max_length,))\n",
        "embedded = embedding_layer(inputs) # 300 x 100 table comes out\n",
        "embedded = keras.layers.GlobalAveragePooling1D()(embedded) # 100-element vector\n",
        "x = keras.layers.Dense(8)(embedded)\n",
        "x = keras.layers.Dropout(0.5)(x)\n",
        "outputs = keras.layers.Dense(3, activation=\"softmax\")(x)\n",
        "\n",
        "model = keras.Model(inputs, outputs)\n",
        "\n",
        "model.summary()"
      ],
      "metadata": {
        "colab": {
          "base_uri": "https://localhost:8080/"
        },
        "id": "A_EJA0YOqVgE",
        "outputId": "be8d8e8d-0fce-4bef-a8ab-017c7dee31b2"
      },
      "execution_count": 20,
      "outputs": [
        {
          "output_type": "stream",
          "name": "stdout",
          "text": [
            "Model: \"model\"\n",
            "_________________________________________________________________\n",
            " Layer (type)                Output Shape              Param #   \n",
            "=================================================================\n",
            " input_1 (InputLayer)        [(None, 300)]             0         \n",
            "                                                                 \n",
            " embedding_1 (Embedding)     (None, 300, 100)          500000    \n",
            "                                                                 \n",
            " global_average_pooling1d (  (None, 100)               0         \n",
            " GlobalAveragePooling1D)                                         \n",
            "                                                                 \n",
            " dense (Dense)               (None, 8)                 808       \n",
            "                                                                 \n",
            " dropout (Dropout)           (None, 8)                 0         \n",
            "                                                                 \n",
            " dense_1 (Dense)             (None, 3)                 27        \n",
            "                                                                 \n",
            "=================================================================\n",
            "Total params: 500835 (1.91 MB)\n",
            "Trainable params: 500835 (1.91 MB)\n",
            "Non-trainable params: 0 (0.00 Byte)\n",
            "_________________________________________________________________\n"
          ]
        }
      ]
    },
    {
      "cell_type": "code",
      "source": [
        "model.compile(optimizer=\"adam\",\n",
        "              loss=\"categorical_crossentropy\",\n",
        "              metrics=[\"accuracy\"])"
      ],
      "metadata": {
        "id": "YtMYGCeqqfxt"
      },
      "execution_count": 21,
      "outputs": []
    },
    {
      "cell_type": "code",
      "source": [
        "# Fit model\n",
        "model.fit(x=X_train, y=y_train,\n",
        "          validation_data=(X_val, y_val),\n",
        "          epochs=10,\n",
        "          batch_size=32,)"
      ],
      "metadata": {
        "colab": {
          "base_uri": "https://localhost:8080/"
        },
        "id": "a0eKp9OnqhVn",
        "outputId": "73407549-71e0-40d1-ff7b-0660c83e62cc"
      },
      "execution_count": 22,
      "outputs": [
        {
          "output_type": "stream",
          "name": "stdout",
          "text": [
            "Epoch 1/10\n",
            "1531/1531 [==============================] - 26s 16ms/step - loss: 0.7845 - accuracy: 0.6620 - val_loss: 0.6626 - val_accuracy: 0.7181\n",
            "Epoch 2/10\n",
            "1531/1531 [==============================] - 29s 19ms/step - loss: 0.6793 - accuracy: 0.7096 - val_loss: 0.6271 - val_accuracy: 0.7308\n",
            "Epoch 3/10\n",
            "1531/1531 [==============================] - 28s 18ms/step - loss: 0.6445 - accuracy: 0.7251 - val_loss: 0.6137 - val_accuracy: 0.7369\n",
            "Epoch 4/10\n",
            "1531/1531 [==============================] - 28s 18ms/step - loss: 0.6280 - accuracy: 0.7321 - val_loss: 0.6139 - val_accuracy: 0.7381\n",
            "Epoch 5/10\n",
            "1531/1531 [==============================] - 24s 16ms/step - loss: 0.6124 - accuracy: 0.7408 - val_loss: 0.6148 - val_accuracy: 0.7346\n",
            "Epoch 6/10\n",
            "1531/1531 [==============================] - 25s 16ms/step - loss: 0.6012 - accuracy: 0.7453 - val_loss: 0.6106 - val_accuracy: 0.7377\n",
            "Epoch 7/10\n",
            "1531/1531 [==============================] - 27s 18ms/step - loss: 0.5903 - accuracy: 0.7492 - val_loss: 0.6167 - val_accuracy: 0.7350\n",
            "Epoch 8/10\n",
            "1531/1531 [==============================] - 26s 17ms/step - loss: 0.5827 - accuracy: 0.7523 - val_loss: 0.6170 - val_accuracy: 0.7364\n",
            "Epoch 9/10\n",
            "1531/1531 [==============================] - 25s 16ms/step - loss: 0.5776 - accuracy: 0.7569 - val_loss: 0.6190 - val_accuracy: 0.7357\n",
            "Epoch 10/10\n",
            "1531/1531 [==============================] - 25s 17ms/step - loss: 0.5729 - accuracy: 0.7585 - val_loss: 0.6267 - val_accuracy: 0.7344\n"
          ]
        },
        {
          "output_type": "execute_result",
          "data": {
            "text/plain": [
              "<keras.src.callbacks.History at 0x7ea88f637220>"
            ]
          },
          "metadata": {},
          "execution_count": 22
        }
      ]
    },
    {
      "cell_type": "code",
      "source": [
        "model.evaluate(x=X_test,y=y_test)"
      ],
      "metadata": {
        "colab": {
          "base_uri": "https://localhost:8080/"
        },
        "id": "DlcLEgh1qhyX",
        "outputId": "b6acd63e-15f6-4907-a194-aa082e86d637"
      },
      "execution_count": 23,
      "outputs": [
        {
          "output_type": "stream",
          "name": "stdout",
          "text": [
            "681/681 [==============================] - 4s 6ms/step - loss: 0.6408 - accuracy: 0.7353\n"
          ]
        },
        {
          "output_type": "execute_result",
          "data": {
            "text/plain": [
              "[0.6407549381256104, 0.7353265285491943]"
            ]
          },
          "metadata": {},
          "execution_count": 23
        }
      ]
    },
    {
      "cell_type": "code",
      "source": [
        "def lyric_predict(phrase):\n",
        "    raw_text_data = tf.convert_to_tensor([[phrase],])\n",
        "\n",
        "    print(raw_text_data)\n",
        "\n",
        "    vect_data = text_vectorization(raw_text_data)\n",
        "    predictions = model.predict(vect_data)\n",
        "    predictions\n",
        "    print(f\"{float(predictions[0,0] * 100):.2f} % Hip-Hop\")\n",
        "    print(f\"{float(predictions[0,1] * 100):.2f} % Pop\")\n",
        "    print(f\"{float(predictions[0,2] * 100):.2f} % Rock\")"
      ],
      "metadata": {
        "id": "So_nKNQhql01"
      },
      "execution_count": 24,
      "outputs": []
    },
    {
      "cell_type": "code",
      "source": [
        "phrase = '''Roots, bloody roots\n",
        "Roots, bloody roots\n",
        "Roots, bloody roots\n",
        "Roots, bloody roots\n",
        "\n",
        "I believe in our fate, we don't need to fake\n",
        "It's all we wanna be, watch me freak!\n",
        "\n",
        "I say we're growing every day, getting stronger in every way\n",
        "I'll take you to a place where we shall find our...\n",
        "\n",
        "Roots, bloody roots\n",
        "Roots, bloody roots\n",
        "Roots, bloody roots\n",
        "Roots, bloody roots\n",
        "\n",
        "Rain, bring me the strength to get to another day\n",
        "And all I want to see, set us free\n",
        "\n",
        "Why can't you see? Can't you feel?\n",
        "This is real!\n",
        "\n",
        "I pray, we don't need to change our ways to be saved\n",
        "That's all we wanna be, watch us freak!'''\n",
        "\n",
        "lyric_predict(phrase)"
      ],
      "metadata": {
        "colab": {
          "base_uri": "https://localhost:8080/"
        },
        "id": "fMDJyncYqoPn",
        "outputId": "e50205c8-799d-4d70-bb87-8e6f85f0c6a1"
      },
      "execution_count": 26,
      "outputs": [
        {
          "output_type": "stream",
          "name": "stdout",
          "text": [
            "tf.Tensor([[b\"Roots, bloody roots\\nRoots, bloody roots\\nRoots, bloody roots\\nRoots, bloody roots\\n\\nI believe in our fate, we don't need to fake\\nIt's all we wanna be, watch me freak!\\n\\nI say we're growing every day, getting stronger in every way\\nI'll take you to a place where we shall find our...\\n\\nRoots, bloody roots\\nRoots, bloody roots\\nRoots, bloody roots\\nRoots, bloody roots\\n\\nRain, bring me the strength to get to another day\\nAnd all I want to see, set us free\\n\\nWhy can't you see? Can't you feel?\\nThis is real!\\n\\nI pray, we don't need to change our ways to be saved\\nThat's all we wanna be, watch us freak!\"]], shape=(1, 1), dtype=string)\n",
            "1/1 [==============================] - 0s 20ms/step\n",
            "5.67 % Hip-Hop\n",
            "9.73 % Pop\n",
            "84.60 % Rock\n"
          ]
        }
      ]
    }
  ]
}